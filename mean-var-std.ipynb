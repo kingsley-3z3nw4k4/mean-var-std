{
 "cells": [
  {
   "cell_type": "markdown",
   "id": "3514845e-18a0-4f3d-a0ad-c54e60c0616b",
   "metadata": {},
   "source": [
    "# Mean-Variance-Standard Deviation Calculator\n",
    "\n",
    "This is a (mini) Python project, completed as part of the requirements for the **Data Analysis with Python** certification from [freeCodeCamp.com](https://www.freecodecamp.org/learn/data-analysis-with-python/).\n"
   ]
  },
  {
   "cell_type": "markdown",
   "id": "4a27e7e6-4677-4888-bb1e-5841ab069604",
   "metadata": {},
   "source": [
    "## Project Instructions"
   ]
  },
  {
   "cell_type": "markdown",
   "id": "f7f6ec0f-e698-4058-b4a8-01ca234d484f",
   "metadata": {},
   "source": [
    "Create a function named `calculate()` in mean_var_std.py that uses Numpy to output the mean, variance, standard deviation, max, min, and sum of the rows, columns, and elements in a 3 x 3 matrix.\n",
    "\n",
    "The input of the function should be a list containing 9 digits. The function should convert the list into a 3 x 3 Numpy array, and then return a dictionary containing the mean, variance, standard deviation, max, min, and sum along both axes and for the flattened matrix.\n",
    "\n",
    "The returned dictionary should follow this format:\n",
    "```\n",
    "{\n",
    "  'mean': [axis1, axis2, flattened],\n",
    "  'variance': [axis1, axis2, flattened],\n",
    "  'standard deviation': [axis1, axis2, flattened],\n",
    "  'max': [axis1, axis2, flattened],\n",
    "  'min': [axis1, axis2, flattened],\n",
    "  'sum': [axis1, axis2, flattened]\n",
    "}\n",
    "```\n",
    "If a list containing less than 9 elements is passed into the function, it should raise a ValueError exception with the message: \"List must contain nine numbers.\" The values in the returned dictionary should be lists and not Numpy arrays.\n",
    "\n",
    "The instructions for building the project can be found at [freeCodeCamp](https://www.freecodecamp.org/learn/data-analysis-with-python/data-analysis-with-python-projects/mean-variance-standard-deviation-calculator)."
   ]
  },
  {
   "cell_type": "markdown",
   "id": "ec292d92-2ecd-4cb0-8431-a4021fbe80c7",
   "metadata": {},
   "source": [
    "## Code Solution"
   ]
  },
  {
   "cell_type": "markdown",
   "id": "43a5a643-d424-4122-bca4-9cf11fca599f",
   "metadata": {},
   "source": [
    "The project is fairly simple and straightforward.\n",
    "\n",
    "It basically requires importing the `NumPy` library and using its statistical methods (`mean`, `std`, `max`, `min`, etc.) to calculate the required values. The methods have an `axis` argument that can be used to specify calculations along the rows or columns (or `None` to flatten the array).\n",
    "\n",
    "An `if` statement is used to check the input constraint (i.e. 9 numbers in the list), and a `ValueError` message is raised if this condition is not satisfied. Although not specified as a constraint, a `for loop` is also added to check that the list contains only float or integer types.\n",
    "\n",
    "The code for the `calculate()` function:"
   ]
  },
  {
   "cell_type": "code",
   "execution_count": 1,
   "id": "ce350d90-b487-4c5f-92cf-d8d5c904004f",
   "metadata": {},
   "outputs": [],
   "source": [
    "# Import NumPy\n",
    "import numpy as np"
   ]
  },
  {
   "cell_type": "code",
   "execution_count": 1,
   "id": "47f7669c-b7bc-4f76-a6cd-832c1c95785f",
   "metadata": {},
   "outputs": [],
   "source": [
    "# The calculate function\n",
    "def calculate(xlist):\n",
    "    \n",
    "    if not len(xlist) == 9: # Tests that input has 9 elements\n",
    "        raise ValueError(\"List must contain nine numbers.\")\n",
    "    \n",
    "    for i in xlist: # Tests that input elements are numeric\n",
    "        if not isinstance(i, (float, int)):\n",
    "            raise ValueError(\"List must contain only numbers.\")\n",
    "\n",
    "    # Convert the input list in a 3x3 NumPy array\n",
    "    xarray = np.array([xlist[i:i+3] for i in range(0,len(xlist),3)])\n",
    "    \n",
    "    axes = [0, 1, None] # Axes along which to perform the statistical calculations\n",
    "\n",
    "    # Perform the statistical caluclations as list comprehensions\n",
    "    mean = [np.mean(xarray, axis=i).tolist() for i in axes]\n",
    "    var = [np.var(xarray, axis=i).tolist() for i in axes]\n",
    "    std = [np.std(xarray, axis=i).tolist() for i in axes]\n",
    "    maxx = [np.max(xarray, axis=i).tolist() for i in axes]\n",
    "    minn = [np.min(xarray, axis=i).tolist() for i in axes]\n",
    "    summ = [np.sum(xarray, axis=i).tolist() for i in axes]\n",
    "\n",
    "    # Return a dictionary of the calculations\n",
    "    return {'mean': mean, 'variance': var,'standard deviation': std, 'max': maxx,'min': minn,'sum': summ}    "
   ]
  },
  {
   "cell_type": "markdown",
   "id": "9f1c1e03-186c-47bc-82b6-e2cc0bf9cc64",
   "metadata": {},
   "source": [
    "## Some code tests"
   ]
  },
  {
   "cell_type": "code",
   "execution_count": null,
   "id": "ac1b3d76-d929-46b5-a038-64692c3b52d6",
   "metadata": {},
   "outputs": [],
   "source": [
    "# Code test 01\n",
    "calculate([2,3,4,5,2,5,7,11,4])"
   ]
  },
  {
   "cell_type": "code",
   "execution_count": null,
   "id": "b68528fc-6a44-4b4b-bcb2-97c298d7c99b",
   "metadata": {},
   "outputs": [],
   "source": [
    "# Code test 02\n",
    "calculate([2,3,4,'r',2,5,7,11,4])"
   ]
  },
  {
   "cell_type": "code",
   "execution_count": null,
   "id": "3ee88603-61c2-4ecd-8186-fc931602e541",
   "metadata": {},
   "outputs": [],
   "source": [
    "# Code test 03\n",
    "calculate([2,3,4,5,2,5,7,11,])"
   ]
  }
 ],
 "metadata": {
  "kernelspec": {
   "display_name": "Python 3 (ipykernel)",
   "language": "python",
   "name": "python3"
  },
  "language_info": {
   "codemirror_mode": {
    "name": "ipython",
    "version": 3
   },
   "file_extension": ".py",
   "mimetype": "text/x-python",
   "name": "python",
   "nbconvert_exporter": "python",
   "pygments_lexer": "ipython3",
   "version": "3.10.12"
  }
 },
 "nbformat": 4,
 "nbformat_minor": 5
}
